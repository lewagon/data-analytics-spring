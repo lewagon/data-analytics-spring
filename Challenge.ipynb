{
 "cells": [
  {
   "cell_type": "markdown",
   "metadata": {},
   "source": [
    "# Data Analytics - Challenge\n"
   ]
  },
  {
   "cell_type": "markdown",
   "metadata": {},
   "source": [
    "The goal of this challenge is to analyze a restaurant invoices. Some celles are already implemented, you just need to **run** them. Some other cells need you to write some code.\n",
    "\n",
    "Start the challenge by running the two following cells:"
   ]
  },
  {
   "cell_type": "code",
   "execution_count": null,
   "metadata": {},
   "outputs": [],
   "source": [
    "import pandas as pd\n",
    "import seaborn as sns\n",
    "import matplotlib.pyplot as plt"
   ]
  },
  {
   "cell_type": "code",
   "execution_count": null,
   "metadata": {},
   "outputs": [],
   "source": [
    "df = pd.read_csv('data/invoices.csv')"
   ]
  },
  {
   "cell_type": "markdown",
   "metadata": {},
   "source": [
    "---\n",
    "\n",
    "❓ Display the 10 first rows of the dataset (no need to sort)\n",
    "\n",
    "<details>\n",
    "    <summary>🙈 Reveal solution</summary>\n",
    "\n",
    "<p>\n",
    "You can use the <a href=\"https://pandas.pydata.org/pandas-docs/stable/reference/api/pandas.DataFrame.head.html\"><code>pandas.DataFrame.head()</code></a> function:\n",
    "    \n",
    "<pre>\n",
    "df.head(10)\n",
    "</pre>\n",
    "</p>\n",
    "</details>"
   ]
  },
  {
   "cell_type": "code",
   "execution_count": null,
   "metadata": {},
   "outputs": [],
   "source": [
    "# Your code here"
   ]
  },
  {
   "cell_type": "markdown",
   "metadata": {},
   "source": [
    "---\n",
    "\n",
    "❓ How many kind of products can you find in the dataset?\n",
    "\n",
    "<details>\n",
    "    <summary>🙈 Reveal solution</summary>\n",
    "\n",
    "<p>\n",
    "You can use the <a href=\"https://pandas.pydata.org/pandas-docs/stable/reference/api/pandas.Series.unique.html\"><code>pandas.Series.unique()</code></a> function combiend with the <code>len()</code> Python built-in.\n",
    "    \n",
    "<pre>\n",
    "len(df['product'].unique())\n",
    "</pre>\n",
    "</p>\n",
    "</details>"
   ]
  },
  {
   "cell_type": "code",
   "execution_count": null,
   "metadata": {},
   "outputs": [],
   "source": [
    "# Your code here"
   ]
  },
  {
   "cell_type": "markdown",
   "metadata": {},
   "source": [
    "---\n",
    "\n",
    "❓ What kind of invoices is the most representated in the invocies? Plot this with a Seaborn Countplot.\n",
    "\n",
    "<details>\n",
    "    <summary>🙈 Reveal solution</summary>\n",
    "\n",
    "<p>\n",
    "<pre>\n",
    "df['product'].value_counts()\n",
    "</pre>\n",
    "    \n",
    "<pre>\n",
    "sns.countplot(data=df, x='product')\n",
    "</pre>\n",
    "</p>\n",
    "</details>"
   ]
  },
  {
   "cell_type": "code",
   "execution_count": null,
   "metadata": {},
   "outputs": [],
   "source": [
    "# Your code here"
   ]
  },
  {
   "cell_type": "code",
   "execution_count": null,
   "metadata": {},
   "outputs": [],
   "source": [
    "# Your plot here"
   ]
  },
  {
   "cell_type": "markdown",
   "metadata": {},
   "source": [
    "---\n",
    "\n",
    "❓ Try to do some other countplots, varying `x` with one of the categorical column (`document_type`, `contract_type`)\n",
    "Is there any value to the `document_type` column?"
   ]
  },
  {
   "cell_type": "code",
   "execution_count": null,
   "metadata": {},
   "outputs": [],
   "source": [
    "# Your first plot here\n",
    "# To add a cell, you can go in the menu and do Insert > Insert cell below"
   ]
  },
  {
   "cell_type": "markdown",
   "metadata": {},
   "source": [
    "---\n",
    "❓ Let's plot the distribution of `amount` based on a given category. Start with `product`:\n",
    "\n",
    "```python\n",
    "sns.catplot(data=df, x='product', y='amount', kind=\"box\")\n",
    "```\n",
    "\n",
    "1. Change the value of `x` with one of the categorical column of the dataset and the value of `kind` (`\"bar\"`, `\"box\"`, `\"violin\"`, `\"boxen\"`)\n",
    "1. Change the value of `y` with one of the numerical column of the dataset"
   ]
  },
  {
   "cell_type": "code",
   "execution_count": null,
   "metadata": {},
   "outputs": [],
   "source": [
    "# Your experiments here"
   ]
  },
  {
   "cell_type": "markdown",
   "metadata": {},
   "source": [
    "---\n",
    "❓ Let's use [`seaborn.FacetGrid`](https://seaborn.pydata.org/generated/seaborn.FacetGrid.html)\n",
    "\n",
    "1. Run the cell below. What do you observe?\n",
    "2. Change `col` in the first line with another column (e.g. `\"contract_type\"`). Run the cell again. What do you observe?"
   ]
  },
  {
   "cell_type": "code",
   "execution_count": null,
   "metadata": {},
   "outputs": [],
   "source": [
    "g = sns.FacetGrid(df, col=\"product\")\n",
    "g.map(plt.hist, \"amount\")"
   ]
  },
  {
   "cell_type": "markdown",
   "metadata": {},
   "source": [
    "---\n",
    "❓ Let's continue with FacetGrid and add a `row=\"contract_time\"` parameter. How many cells do you get in the plot?\n",
    "\n",
    "<details>\n",
    "    <summary>🙈 Reveal solution</summary>\n",
    "\n",
    "You get 7 * 7 = 49 cells!\n",
    "    \n",
    "<pre>\n",
    "g = sns.FacetGrid(df, col=\"product\", row=\"contract_type\")\n",
    "g.map(plt.hist, \"Income\")\n",
    "</pre>\n",
    "</p>\n",
    "</details>"
   ]
  },
  {
   "cell_type": "code",
   "execution_count": null,
   "metadata": {},
   "outputs": [],
   "source": [
    "# Your code here"
   ]
  },
  {
   "cell_type": "markdown",
   "metadata": {},
   "source": [
    "---\n",
    "❓ Have a representation of the time to pay ranges of the invoices. You may find helpful to use the [`pd.cut()`](https://pandas.pydata.org/pandas-docs/stable//reference/api/pandas.cut.html) function. Here are a few intermediary steps:\n",
    "\n",
    "* Create a subset of the DataFrame with cleared invoices\n",
    "* Generate an `time_to_pay` column\n",
    "* Cut the values of the column by categories (e.g.: '7 days') and store it in another new column: `time_ranges`\n",
    "* Display the representation\n",
    "\n",
    "<details>\n",
    "    <summary>🙈 Reveal solution</summary>\n",
    "    \n",
    "<pre>\n",
    "sub_df = df[~df.clearing_date.isna()]\n",
    "sub_df['time_to_pay'] = pd.to_datetime(sub_df['clearing_date']) - pd.to_datetime(sub_df['due_date'])\n",
    "labels = ['paid in advance', 'within a week', 'within a month', 'bad payers']\n",
    "bins = [float('-inf'), 0, 7, 30, float('inf')]\n",
    "sub_df['time_ranges'] = pd.cut(sub_df['time_to_pay'], bins=bins, labels=labels)\n",
    "sns.countplot(data=sub_df, x='time_ranges')\n",
    "</pre>\n",
    "</p>\n",
    "</details>"
   ]
  },
  {
   "cell_type": "code",
   "execution_count": null,
   "metadata": {},
   "outputs": [],
   "source": [
    "# Your code here"
   ]
  },
  {
   "cell_type": "markdown",
   "metadata": {},
   "source": [
    "---\n",
    "❓ Thanks to the previously created subset and columns, could you get the habits of payments by payers?\n",
    "\n",
    "* Group rows by the payer_id \n",
    "* Use as an aggregative function [`GroupBy.aggregate()`](https://pandas.pydata.org/pandas-docs/stable//reference/api/pandas.core.groupby.DataFrameGroupBy.aggregate.html) which allows you to provide different kind of functions \n",
    "* Apply the [`pd.Series.mode()`](https://pandas.pydata.org/pandas-docs/stable/reference/api/pandas.Series.mode.html) function to each group\n",
    "\n",
    "<details>\n",
    "    <summary>🙈 Reveal solution</summary>\n",
    "    \n",
    "<pre>\n",
    "sub_df.groupby('payer_id')[['time_ranges']].aggregate(pd.Series.mode)\n",
    "</pre>\n",
    "</p>\n",
    "</details>"
   ]
  },
  {
   "cell_type": "code",
   "execution_count": null,
   "metadata": {},
   "outputs": [],
   "source": [
    "# Your code here"
   ]
  },
  {
   "cell_type": "code",
   "execution_count": null,
   "metadata": {},
   "outputs": [],
   "source": [
    "# You can easily compare the shape of your DataFrame with the number of unique values in payer_id to see if it worked"
   ]
  },
  {
   "cell_type": "markdown",
   "metadata": {},
   "source": [
    "## Good job!\n",
    "\n",
    "Save your notebook, go back to the **Le Wagon - Learn** platform to upload your progress. A quiz awaits you!"
   ]
  }
 ],
 "metadata": {
  "hide_input": false,
  "kernelspec": {
   "display_name": "Python 3 (ipykernel)",
   "language": "python",
   "name": "python3"
  },
  "language_info": {
   "codemirror_mode": {
    "name": "ipython",
    "version": 3
   },
   "file_extension": ".py",
   "mimetype": "text/x-python",
   "name": "python",
   "nbconvert_exporter": "python",
   "pygments_lexer": "ipython3",
   "version": "3.9.6"
  },
  "toc": {
   "base_numbering": 1,
   "nav_menu": {},
   "number_sections": true,
   "sideBar": true,
   "skip_h1_title": false,
   "title_cell": "Table of Contents",
   "title_sidebar": "Contents",
   "toc_cell": false,
   "toc_position": {},
   "toc_section_display": true,
   "toc_window_display": false
  },
  "varInspector": {
   "cols": {
    "lenName": 16,
    "lenType": 16,
    "lenVar": 40
   },
   "kernels_config": {
    "python": {
     "delete_cmd_postfix": "",
     "delete_cmd_prefix": "del ",
     "library": "var_list.py",
     "varRefreshCmd": "print(var_dic_list())"
    },
    "r": {
     "delete_cmd_postfix": ") ",
     "delete_cmd_prefix": "rm(",
     "library": "var_list.r",
     "varRefreshCmd": "cat(var_dic_list()) "
    }
   },
   "types_to_exclude": [
    "module",
    "function",
    "builtin_function_or_method",
    "instance",
    "_Feature"
   ],
   "window_display": false
  }
 },
 "nbformat": 4,
 "nbformat_minor": 4
}
