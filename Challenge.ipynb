{
 "cells": [
  {
   "cell_type": "markdown",
   "metadata": {},
   "source": [
    "# Data Analytics - Challenge\n"
   ]
  },
  {
   "cell_type": "markdown",
   "metadata": {},
   "source": [
    "The goal of this challenge is to analyze a restaurant invoices. Some celles are already implemented, you just need to **run** them. Some other cells need you to write some code.\n",
    "\n",
    "Start the challenge by running the two following cells:"
   ]
  },
  {
   "cell_type": "code",
   "execution_count": null,
   "metadata": {},
   "outputs": [],
   "source": [
    "import pandas as pd\n",
    "import seaborn as sns\n",
    "import matplotlib.pyplot as plt"
   ]
  },
  {
   "cell_type": "code",
   "execution_count": null,
   "metadata": {},
   "outputs": [],
   "source": [
    "df = pd.read_csv('data/marketing_campaign.csv', sep=';')"
   ]
  },
  {
   "cell_type": "markdown",
   "metadata": {},
   "source": [
    "---\n",
    "\n",
    "❓ Display the 10 first rows of the dataset (no need to sort)\n",
    "\n",
    "<details>\n",
    "    <summary>🙈 Reveal solution</summary>\n",
    "\n",
    "<p>\n",
    "You can use the <a href=\"https://pandas.pydata.org/pandas-docs/stable/reference/api/pandas.DataFrame.head.html\"><code>pandas.DataFrame.head()</code></a> function:\n",
    "    \n",
    "<pre>\n",
    "df.head(10)\n",
    "</pre>\n",
    "</p>\n",
    "</details>"
   ]
  },
  {
   "cell_type": "code",
   "execution_count": null,
   "metadata": {},
   "outputs": [],
   "source": [
    "# Your code here"
   ]
  },
  {
   "cell_type": "markdown",
   "metadata": {},
   "source": [
    "---\n",
    "\n",
    "❓ How many level of education can you fin in the dataset?\n",
    "\n",
    "<details>\n",
    "    <summary>🙈 Reveal solution</summary>\n",
    "\n",
    "<p>\n",
    "You can use the <a href=\"https://pandas.pydata.org/pandas-docs/stable/reference/api/pandas.Series.unique.html\"><code>pandas.Series.unique()</code></a> function combiend with the <code>len()</code> Python built-in.\n",
    "    \n",
    "<pre>\n",
    "len(df['Education'].unique())\n",
    "</pre>\n",
    "</p>\n",
    "</details>"
   ]
  },
  {
   "cell_type": "code",
   "execution_count": null,
   "metadata": {},
   "outputs": [],
   "source": [
    "# Your code here"
   ]
  },
  {
   "cell_type": "markdown",
   "metadata": {},
   "source": [
    "---\n",
    "\n",
    "❓ What level of education is the most representated in the customers? Plot this with a Seaborn Countplot.\n",
    "\n",
    "<details>\n",
    "    <summary>🙈 Reveal solution</summary>\n",
    "\n",
    "<p>\n",
    "<pre>\n",
    "df['Education'].value_counts()\n",
    "</pre>\n",
    "    \n",
    "<pre>\n",
    "sns.countplot(data=df, x='Education')\n",
    "</pre>\n",
    "</p>\n",
    "</details>"
   ]
  },
  {
   "cell_type": "code",
   "execution_count": null,
   "metadata": {},
   "outputs": [],
   "source": [
    "# Your code here"
   ]
  },
  {
   "cell_type": "code",
   "execution_count": null,
   "metadata": {},
   "outputs": [],
   "source": [
    "# Your plot here"
   ]
  },
  {
   "cell_type": "markdown",
   "metadata": {},
   "source": [
    "---\n",
    "\n",
    "❓ Try to do some other countplots, varying `x` with one of the categorical column (`Marital_Status`, `Kidhome`, `Teenhome`)"
   ]
  },
  {
   "cell_type": "code",
   "execution_count": null,
   "metadata": {},
   "outputs": [],
   "source": [
    "# Your first plot here\n",
    "# To add a cell, you can go in the menu and do Insert > Insert cell below"
   ]
  },
  {
   "cell_type": "markdown",
   "metadata": {},
   "source": [
    "---\n",
    "❓ Let's plot the distribution of `Income` based on a given category. Start with `Education`:\n",
    "\n",
    "```python\n",
    "sns.catplot(data=df, x='Education', y='Income', kind=\"box\")\n",
    "```\n",
    "\n",
    "1. Change the value of `x` with one of the categorical column of the dataset and the value of `kind` (`\"bar\"`, `\"box\"`, `\"violin\"`, `\"boxen\"`)\n",
    "1. Change the value of `y` with one of the numerical column of the dataset"
   ]
  },
  {
   "cell_type": "code",
   "execution_count": null,
   "metadata": {},
   "outputs": [],
   "source": [
    "# Your experiments here"
   ]
  },
  {
   "cell_type": "markdown",
   "metadata": {},
   "source": [
    "---\n",
    "❓ Let's use [`seaborn.FacetGrid`](https://seaborn.pydata.org/generated/seaborn.FacetGrid.html)\n",
    "\n",
    "1. Run the cell below. What do you observe?\n",
    "2. Change `col` in the first line with another column (e.g. `\"time\"`). Run the cell again. What do you observe?"
   ]
  },
  {
   "cell_type": "code",
   "execution_count": null,
   "metadata": {},
   "outputs": [],
   "source": [
    "g = sns.FacetGrid(df, col=\"Education\")\n",
    "g.map(plt.hist, \"Income\")"
   ]
  },
  {
   "cell_type": "markdown",
   "metadata": {},
   "source": [
    "---\n",
    "❓ Let's continue with FacetGrid and add a `row=\"Teenhome\"` parameter. How many cells do you get in the plot?\n",
    "\n",
    "<details>\n",
    "    <summary>🙈 Reveal solution</summary>\n",
    "\n",
    "You get 3 * 5 = 15 cells!\n",
    "    \n",
    "<pre>\n",
    "g = sns.FacetGrid(df, col=\"Education\", row=\"Teenhome\")\n",
    "g.map(plt.hist, \"Income\")\n",
    "</pre>\n",
    "</p>\n",
    "</details>"
   ]
  },
  {
   "cell_type": "code",
   "execution_count": null,
   "metadata": {},
   "outputs": [],
   "source": [
    "# Your code here"
   ]
  },
  {
   "cell_type": "markdown",
   "metadata": {},
   "source": [
    "---\n",
    "❓ Show the percentage of positive reactions to the campaign by education level.\n",
    "\n",
    "<details>\n",
    "    <summary>🙈 Reveal solution</summary>\n",
    "    \n",
    "<pre>\n",
    "df.groupby('Education')['Response'].mean()\n",
    "</pre>\n",
    "</p>\n",
    "</details>"
   ]
  },
  {
   "cell_type": "code",
   "execution_count": null,
   "metadata": {},
   "outputs": [],
   "source": [
    "# Your code here"
   ]
  },
  {
   "cell_type": "markdown",
   "metadata": {},
   "source": [
    "---\n",
    "❓ Try to have something a bit more representative since the education level is not distributed equally. You could use [`seaborn.countplot`](https://seaborn.pydata.org/generated/seaborn.countplot.html) to do so:\n",
    "\n",
    "<details>\n",
    "    <summary>🙈 Reveal solution</summary>\n",
    "    \n",
    "<pre>\n",
    "sns.countplot(data=df, x='Education', hue='Response')\n",
    "</pre>\n",
    "</p>\n",
    "</details>"
   ]
  },
  {
   "cell_type": "code",
   "execution_count": null,
   "metadata": {},
   "outputs": [],
   "source": [
    "# Your code here"
   ]
  },
  {
   "cell_type": "markdown",
   "metadata": {},
   "source": [
    "---\n",
    "❓ Have a representation of age ranges of the customers. You may find helpful to use the [`pd.cut()`](https://pandas.pydata.org/pandas-docs/stable//reference/api/pandas.cut.html) function. Here are a few intermediary steps:\n",
    "\n",
    "* Generate an `age` column\n",
    "* Cut the values of the column by categories (e.g.: '20-40') and store it in another new column\n",
    "* Display the representation\n",
    "\n",
    "<details>\n",
    "    <summary>🙈 Reveal solution</summary>\n",
    "    \n",
    "<pre>\n",
    "df['Age'] = pd.to_datetime('today').year - df['Year_Birth']\n",
    "labels = ['20-40', '41-60', '60+']\n",
    "bins = [20, 40, 60, 100]\n",
    "df['AgeGroup'] = pd.cut(df['Age'], bins=bins, labels=labels)\n",
    "sns.countplot(data=df, x='AgeGroup')\n",
    "</pre>\n",
    "</p>\n",
    "</details>"
   ]
  },
  {
   "cell_type": "code",
   "execution_count": null,
   "metadata": {},
   "outputs": [],
   "source": [
    "# Your code here"
   ]
  },
  {
   "cell_type": "markdown",
   "metadata": {},
   "source": [
    "## Correlation\n",
    "\n",
    "Let's start looking for correlation between columns in the dataset.\n"
   ]
  },
  {
   "cell_type": "markdown",
   "metadata": {},
   "source": [
    "---\n",
    "❓ What is your intuition about the relationship between the columns `Income` and `MntWines`?"
   ]
  },
  {
   "cell_type": "markdown",
   "metadata": {},
   "source": [
    "---\n",
    "❓ Let's look at the data to see if our intuition is correct. We will do a **scatterplot** with `x` being `Income` and `y` the `MntWines`."
   ]
  },
  {
   "cell_type": "code",
   "execution_count": null,
   "metadata": {},
   "outputs": [],
   "source": [
    "with sns.axes_style(style=\"whitegrid\"):\n",
    "    sns.relplot(x=\"Income\", y=\"MntWines\", data=df)"
   ]
  },
  {
   "cell_type": "markdown",
   "metadata": {},
   "source": [
    "---\n",
    "❓ Another way of looking at this data is to use a [`seaborn.jointplot`](https://seaborn.pydata.org/generated/seaborn.jointplot.html)."
   ]
  },
  {
   "cell_type": "code",
   "execution_count": null,
   "metadata": {},
   "outputs": [],
   "source": [
    "with sns.axes_style(\"white\"):\n",
    "    sns.jointplot(x=\"Income\", y=\"MntWines\", kind=\"hex\", data=df)"
   ]
  },
  {
   "cell_type": "markdown",
   "metadata": {},
   "source": [
    "❓ A very useful tool to **identify** correlations is the [`seaborn.pairplot`](https://seaborn.pydata.org/generated/seaborn.pairplot.html):"
   ]
  },
  {
   "cell_type": "code",
   "execution_count": null,
   "metadata": {},
   "outputs": [],
   "source": [
    "cols = ['Income', 'MntWines', 'MntFruits', 'Education',\n",
    "       'MntMeatProducts', 'MntFishProducts', 'MntSweetProducts',\n",
    "       'MntGoldProds']\n",
    "sns.pairplot(df[cols], height=2, hue='Education')"
   ]
  },
  {
   "cell_type": "markdown",
   "metadata": {},
   "source": [
    "## Regression\n",
    "\n",
    "We are not doing Machine Learning yet but we can use [`seaborn.lmplot`](https://seaborn.pydata.org/generated/seaborn.lmplot.html) to graphically read a linear correlation between two columns:"
   ]
  },
  {
   "cell_type": "code",
   "execution_count": null,
   "metadata": {},
   "outputs": [],
   "source": [
    "sns.lmplot(x=\"Income\", y=\"MntWines\", col=\"Teenhome\", data=df)"
   ]
  },
  {
   "cell_type": "markdown",
   "metadata": {},
   "source": [
    "## Good job!\n",
    "\n",
    "Save your notebook, go back to the **Le Wagon - Learn** platform to upload your progress. A quiz awaits you!"
   ]
  }
 ],
 "metadata": {
  "hide_input": false,
  "kernelspec": {
   "display_name": "Python 3 (ipykernel)",
   "language": "python",
   "name": "python3"
  },
  "language_info": {
   "codemirror_mode": {
    "name": "ipython",
    "version": 3
   },
   "file_extension": ".py",
   "mimetype": "text/x-python",
   "name": "python",
   "nbconvert_exporter": "python",
   "pygments_lexer": "ipython3",
   "version": "3.9.6"
  },
  "toc": {
   "base_numbering": 1,
   "nav_menu": {},
   "number_sections": true,
   "sideBar": true,
   "skip_h1_title": false,
   "title_cell": "Table of Contents",
   "title_sidebar": "Contents",
   "toc_cell": false,
   "toc_position": {},
   "toc_section_display": true,
   "toc_window_display": false
  },
  "varInspector": {
   "cols": {
    "lenName": 16,
    "lenType": 16,
    "lenVar": 40
   },
   "kernels_config": {
    "python": {
     "delete_cmd_postfix": "",
     "delete_cmd_prefix": "del ",
     "library": "var_list.py",
     "varRefreshCmd": "print(var_dic_list())"
    },
    "r": {
     "delete_cmd_postfix": ") ",
     "delete_cmd_prefix": "rm(",
     "library": "var_list.r",
     "varRefreshCmd": "cat(var_dic_list()) "
    }
   },
   "types_to_exclude": [
    "module",
    "function",
    "builtin_function_or_method",
    "instance",
    "_Feature"
   ],
   "window_display": false
  }
 },
 "nbformat": 4,
 "nbformat_minor": 4
}
