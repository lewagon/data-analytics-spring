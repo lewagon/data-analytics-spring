{
 "cells": [
  {
   "cell_type": "markdown",
   "metadata": {
    "slideshow": {
     "slide_type": "slide"
    }
   },
   "source": [
    "# Data Analytics\n",
    "\n",
    "A hands-on workshop by [Le Wagon](https://www.lewagon.com)"
   ]
  },
  {
   "cell_type": "markdown",
   "metadata": {
    "slideshow": {
     "slide_type": "subslide"
    }
   },
   "source": [
    "## Agenda\n",
    "\n",
    "- Python 101\n",
    "- Your first Exploratory Data Analysis with Pandas, matplotlib and Seaborn\n",
    "\n",
    "We will code in a [Notebook](https://jupyter.org/)"
   ]
  },
  {
   "cell_type": "markdown",
   "metadata": {
    "slideshow": {
     "slide_type": "slide"
    }
   },
   "source": [
    "## Python 101"
   ]
  },
  {
   "cell_type": "markdown",
   "metadata": {
    "slideshow": {
     "slide_type": "subslide"
    }
   },
   "source": [
    "### Simple Built-in Types\n",
    "\n",
    "Here are the basic types we need:\n",
    "\n",
    "- Numeric (`int` and `float`)\n",
    "- Text (`str`)\n",
    "- Boolean (`bool`)"
   ]
  },
  {
   "cell_type": "markdown",
   "metadata": {
    "slideshow": {
     "slide_type": "fragment"
    }
   },
   "source": [
    "Ask yourself: what's the type for a _street number_ , a _zip code_ , an _annual income_ , etc."
   ]
  },
  {
   "cell_type": "markdown",
   "metadata": {
    "slideshow": {
     "slide_type": "subslide"
    }
   },
   "source": [
    "### Variables\n",
    "\n",
    "Storing and re-using values in memory:\n",
    "\n",
    "```python\n",
    "city = \"Paris\"\n",
    "```"
   ]
  },
  {
   "cell_type": "markdown",
   "metadata": {
    "slideshow": {
     "slide_type": "subslide"
    }
   },
   "source": [
    "### Functions\n",
    "\n",
    "Exemple: [built-in functions](https://docs.python.org/3/library/functions.html)\n",
    "\n",
    "```python\n",
    "len(\"Paris\")\n",
    "```"
   ]
  },
  {
   "cell_type": "markdown",
   "metadata": {
    "slideshow": {
     "slide_type": "subslide"
    }
   },
   "source": [
    "### Objects\n",
    "\n",
    "Stored in **variables**. We can call **methods** (~functions) _on_ them.\n",
    "\n",
    "Example:\n",
    "\n",
    "```python\n",
    "name = \"boris\"\n",
    "name.capitalize()\n",
    "```"
   ]
  },
  {
   "cell_type": "markdown",
   "metadata": {
    "slideshow": {
     "slide_type": "fragment"
    }
   },
   "source": [
    "Sometimes we call methods _with arguments_ :\n",
    "\n",
    "```python\n",
    "name.endswith(\"s\")\n",
    "```"
   ]
  },
  {
   "cell_type": "markdown",
   "metadata": {
    "slideshow": {
     "slide_type": "slide"
    }
   },
   "source": [
    "## Data Sourcing\n",
    "\n",
    "The art of _collecting_ data priori to an analysis"
   ]
  },
  {
   "cell_type": "markdown",
   "metadata": {
    "slideshow": {
     "slide_type": "subslide"
    }
   },
   "source": [
    "### Finding Data\n",
    "\n",
    "- I can export it from a software (CSV)\n",
    "- I know it exists somewhere in a database\n",
    "- It's on this website I visit daily\n",
    "- I have found a service (API?) that gives access to it\n",
    "- I received a file by email"
   ]
  },
  {
   "cell_type": "markdown",
   "metadata": {
    "slideshow": {
     "slide_type": "subslide"
    }
   },
   "source": [
    "### Data is in a file (or many files!)\n",
    "\n",
    "- File - Structured Data (CSV, JSON, XML or XLSX)\n",
    "- File - Unstructured Data (PDF, DOCX, TXT or XSLX)\n",
    "- File - Binary and/or proprietary (How can I open it?)"
   ]
  },
  {
   "cell_type": "markdown",
   "metadata": {
    "slideshow": {
     "slide_type": "subslide"
    }
   },
   "source": [
    "### Data is online\n",
    "\n",
    "On the Internet or behind company VPN\n",
    "\n",
    "- It's on a simple **SQL** database and I have access to it\n",
    "- It's on Google BigQuery or another Data Warehouse provider (SQL usually works too)\n",
    "- There is an **API** & Documentation\n",
    "- There is not. **Web Scraping** is the only option"
   ]
  },
  {
   "cell_type": "markdown",
   "metadata": {
    "slideshow": {
     "slide_type": "subslide"
    }
   },
   "source": [
    "### Finding a Dataset\n",
    "\n",
    "- [Google Dataset Search](https://datasetsearch.research.google.com/)\n",
    "- [Kaggle](https://www.kaggle.com/)"
   ]
  },
  {
   "cell_type": "markdown",
   "metadata": {
    "slideshow": {
     "slide_type": "slide"
    }
   },
   "source": [
    "## Pandas\n",
    "\n",
    "[pandas.pydata.org](https://pandas.pydata.org/)"
   ]
  },
  {
   "cell_type": "markdown",
   "metadata": {
    "slideshow": {
     "slide_type": "subslide"
    }
   },
   "source": [
    "### Why not Excel?\n",
    "\n",
    "- Handling **large** datasets (no limit on number of rows)\n",
    "- Combine multiple files\n",
    "- Pull data from APIs\n",
    "- Python!"
   ]
  },
  {
   "cell_type": "markdown",
   "metadata": {
    "slideshow": {
     "slide_type": "subslide"
    }
   },
   "source": [
    "### Pandas IO Tools\n",
    "\n",
    "Simplest way of using Pandas is to load data directly **from a CSV** file on disk:\n",
    "\n",
    "```python\n",
    "import pandas as pd\n",
    "\n",
    "a_dataframe = pd.read_csv(FILEPATH)\n",
    "```"
   ]
  },
  {
   "cell_type": "markdown",
   "metadata": {
    "slideshow": {
     "slide_type": "fragment"
    }
   },
   "source": [
    "Pandas can also load data from multiple other sources:\n",
    "\n",
    "👉 [pandas.pydata.org/pandas-docs/stable/user_guide/io.html](https://pandas.pydata.org/pandas-docs/stable/user_guide/io.html)"
   ]
  },
  {
   "cell_type": "markdown",
   "metadata": {
    "slideshow": {
     "slide_type": "subslide"
    }
   },
   "source": [
    "### Seaborn\n",
    "\n",
    "We will use [`seaborn`](https://seaborn.pydata.org) for **Data Visualization** (it's based on `matplotlib`)\n",
    "\n",
    "```python\n",
    "import seaborn as sns\n",
    "```"
   ]
  },
  {
   "cell_type": "markdown",
   "metadata": {
    "slideshow": {
     "slide_type": "subslide"
    }
   },
   "source": [
    "First, let's choose a dataset to explore"
   ]
  },
  {
   "cell_type": "markdown",
   "metadata": {
    "slideshow": {
     "slide_type": "subslide"
    }
   },
   "source": [
    "### Marketing Campaign Open Data\n",
    "\n",
    "Let's use this Dataset from 2020 available on Kaggle:\n",
    "\n",
    "👉 [kaggle.com/rodsaldanha/marketing-campaign](https://www.kaggle.com/rodsaldanha/arketing-campaign/version/8)"
   ]
  },
  {
   "cell_type": "markdown",
   "metadata": {
    "slideshow": {
     "slide_type": "subslide"
    }
   },
   "source": [
    "### Loading the CSV\n",
    "\n",
    "We can use the [`pandas.read_csv`](https://pandas.pydata.org/pandas-docs/stable/reference/api/pandas.read_csv.html) function.\n",
    "\n",
    "```python\n",
    "listings_df = pd.read_csv('data/marketing_campaign.csv', sep=';')\n",
    "```\n",
    "\n",
    "We now have `listings_df`, a variable containing our first [**DataFrame**](https://pandas.pydata.org/pandas-docs/stable/reference/api/pandas.DataFrame.html)"
   ]
  },
  {
   "cell_type": "markdown",
   "metadata": {
    "slideshow": {
     "slide_type": "subslide"
    }
   },
   "source": [
    "### Quick look\n",
    "\n",
    "Let's use some attributes & methods of the DataFrame:\n",
    "\n",
    "- `.shape`\n",
    "- `.columns`\n",
    "- `.dtypes`\n",
    "- `.head()` / `tail()`"
   ]
  },
  {
   "cell_type": "markdown",
   "metadata": {
    "slideshow": {
     "slide_type": "subslide"
    }
   },
   "source": [
    "### Cleaning Data\n",
    "\n",
    "We can show how many nulls are found in each column with:\n",
    "\n",
    "```python\n",
    "listings_df.isnull().sum()\n",
    "```"
   ]
  },
  {
   "cell_type": "markdown",
   "metadata": {
    "slideshow": {
     "slide_type": "fragment"
    }
   },
   "source": [
    "We can drop some columns we find not relevant enough for our analysis:\n",
    "\n",
    "```python\n",
    "columns_to_drop = ['Z_CostContact', 'Z_Revenue']\n",
    "listings_df.drop(columns_to_drop, axis=\"columns\", inplace=True)\n",
    "```"
   ]
  },
  {
   "cell_type": "markdown",
   "metadata": {
    "slideshow": {
     "slide_type": "fragment"
    }
   },
   "source": [
    "We can replace `NaN` with:\n",
    "\n",
    "```python\n",
    "listings_df.fillna({'Income': 0}, inplace=True)\n",
    "```\n",
    "\n",
    "Or drop the rows with missing values with:\n",
    "\n",
    "```python\n",
    "listings_df.dropna(inplace=True)\n",
    "```"
   ]
  },
  {
   "cell_type": "markdown",
   "metadata": {
    "slideshow": {
     "slide_type": "subslide"
    }
   },
   "source": [
    "### Columns & Rows"
   ]
  },
  {
   "cell_type": "markdown",
   "metadata": {
    "slideshow": {
     "slide_type": "fragment"
    }
   },
   "source": [
    "We can filter **columns** (by name):\n",
    "    \n",
    "```python\n",
    "listings_df['Income'] # => Series\n",
    "# or\n",
    "listings_df[['ID', 'Income', 'Year_Birth', 'Education']] # => DataFrame\n",
    "```"
   ]
  },
  {
   "cell_type": "markdown",
   "metadata": {
    "slideshow": {
     "slide_type": "fragment"
    }
   },
   "source": [
    "Or **rows** (by index):\n",
    "\n",
    "```python\n",
    "listings_df[5:10]\n",
    "```"
   ]
  },
  {
   "cell_type": "markdown",
   "metadata": {
    "slideshow": {
     "slide_type": "fragment"
    }
   },
   "source": [
    "And even **combine** both approaches"
   ]
  },
  {
   "cell_type": "markdown",
   "metadata": {
    "slideshow": {
     "slide_type": "subslide"
    }
   },
   "source": [
    "### Feature Engineering"
   ]
  },
  {
   "cell_type": "markdown",
   "metadata": {
    "slideshow": {
     "slide_type": "fragment"
    }
   },
   "source": [
    "We can create new columns from existing ones:"
   ]
  },
  {
   "cell_type": "markdown",
   "metadata": {
    "slideshow": {
     "slide_type": "fragment"
    }
   },
   "source": [
    "```python\n",
    "listings_df['Age'] = pd.to_datetime('today').year - df['Year_Birth']\n",
    "```"
   ]
  },
  {
   "cell_type": "markdown",
   "metadata": {
    "slideshow": {
     "slide_type": "subslide"
    }
   },
   "source": [
    "### Boolean Indexing"
   ]
  },
  {
   "cell_type": "markdown",
   "metadata": {
    "slideshow": {
     "slide_type": "fragment"
    }
   },
   "source": [
    "```python\n",
    "listings_df['Year_Birth'] < 2000\n",
    "```"
   ]
  },
  {
   "cell_type": "markdown",
   "metadata": {
    "slideshow": {
     "slide_type": "fragment"
    }
   },
   "source": [
    "Using this Series as an selection index:\n",
    "\n",
    "```python\n",
    "listings_df[listings_df['Year_Birth'] < 2000]\n",
    "```"
   ]
  },
  {
   "cell_type": "markdown",
   "metadata": {
    "slideshow": {
     "slide_type": "slide"
    }
   },
   "source": [
    "## Exploratory Data Analysis\n",
    "\n",
    "Quoting [Wikipedia](https://en.wikipedia.org/wiki/Exploratory_data_analysis):\n",
    "    \n",
    "> In statistics, exploratory data analysis (EDA) is an approach to analyzing data sets to summarize their main characteristics, often with visual methods.\n",
    "\n",
    "Let's start asking some **questions** 🤔 to our dataset"
   ]
  },
  {
   "cell_type": "markdown",
   "metadata": {
    "slideshow": {
     "slide_type": "subslide"
    }
   },
   "source": [
    "🤔 What are the 10 biggest incomes of our customers' listing?"
   ]
  },
  {
   "cell_type": "markdown",
   "metadata": {
    "slideshow": {
     "slide_type": "fragment"
    }
   },
   "source": [
    "```python\n",
    "listings_df.nlargest(10, 'Income')\n",
    "```"
   ]
  },
  {
   "cell_type": "markdown",
   "metadata": {
    "slideshow": {
     "slide_type": "subslide"
    }
   },
   "source": [
    "🤔 What are the education groups within listings?"
   ]
  },
  {
   "cell_type": "markdown",
   "metadata": {
    "slideshow": {
     "slide_type": "fragment"
    }
   },
   "source": [
    "```python\n",
    "listings_df['Education'].unique()\n",
    "```"
   ]
  },
  {
   "cell_type": "markdown",
   "metadata": {
    "slideshow": {
     "slide_type": "subslide"
    }
   },
   "source": [
    "🤔 Follow-up: How many listings per education group?"
   ]
  },
  {
   "cell_type": "markdown",
   "metadata": {
    "slideshow": {
     "slide_type": "fragment"
    }
   },
   "source": [
    "```python\n",
    "listings_df['Education'].value_counts()\n",
    "```"
   ]
  },
  {
   "cell_type": "markdown",
   "metadata": {
    "slideshow": {
     "slide_type": "subslide"
    }
   },
   "source": [
    "🤔 What are the Top 3 education groups within the listing?"
   ]
  },
  {
   "cell_type": "markdown",
   "metadata": {
    "slideshow": {
     "slide_type": "fragment"
    }
   },
   "source": [
    "```python\n",
    "listings_df['Education'].value_counts().head(3)\n",
    "```"
   ]
  },
  {
   "cell_type": "markdown",
   "metadata": {
    "slideshow": {
     "slide_type": "subslide"
    }
   },
   "source": [
    "We can plot a barchart with `matplotlib` calling `.plot(kind='bar')` directly _on_ the Dataframe\n",
    "\n",
    "```python\n",
    "listings_df['Education'].value_counts().head(3).plot(kind='bar')\n",
    "```"
   ]
  },
  {
   "cell_type": "markdown",
   "metadata": {
    "slideshow": {
     "slide_type": "fragment"
    }
   },
   "source": [
    "No need for a `value_counts()` with `seaborn`, we can just use a [Countplot](https://seaborn.pydata.org/generated/seaborn.countplot.html)\n",
    "\n",
    "```python\n",
    "sns.countplot(data=listings_df, x='Education')\n",
    "```"
   ]
  },
  {
   "cell_type": "markdown",
   "metadata": {
    "slideshow": {
     "slide_type": "fragment"
    }
   },
   "source": [
    "```python\n",
    "order = listings_df['Education'].value_counts().index\n",
    "sns.countplot(data=listings_df, x='Education', order=order)\n",
    "```"
   ]
  },
  {
   "cell_type": "markdown",
   "metadata": {
    "slideshow": {
     "slide_type": "subslide"
    }
   },
   "source": [
    "🤔 What's the influence of **Marital_Status** on the number of kids home?"
   ]
  },
  {
   "cell_type": "markdown",
   "metadata": {
    "slideshow": {
     "slide_type": "fragment"
    }
   },
   "source": [
    "FYI, here are the Marital_Status:\n",
    "\n",
    "```python\n",
    "listings_df['Marital_Status'].unique()\n",
    "```"
   ]
  },
  {
   "cell_type": "markdown",
   "metadata": {
    "slideshow": {
     "slide_type": "fragment"
    }
   },
   "source": [
    "```python\n",
    "sns.countplot(data=listings_df, x=\"Marital_Status\", hue=\"Kidhome\")\n",
    "```"
   ]
  },
  {
   "cell_type": "markdown",
   "metadata": {
    "slideshow": {
     "slide_type": "subslide"
    }
   },
   "source": [
    "🤔 What is the **distribution** of listing incomes?"
   ]
  },
  {
   "cell_type": "markdown",
   "metadata": {
    "slideshow": {
     "slide_type": "fragment"
    }
   },
   "source": [
    "We can use a [Distplot](https://seaborn.pydata.org/generated/seaborn.distplot.html):\n",
    "\n",
    "```python\n",
    "sns.distplot(listings_df['Income'])\n",
    "```"
   ]
  },
  {
   "cell_type": "markdown",
   "metadata": {
    "slideshow": {
     "slide_type": "fragment"
    }
   },
   "source": [
    "How many incomes are **greater than 60 000$**? Could we remove those outliers from the visualization? What technique can we use?"
   ]
  },
  {
   "cell_type": "markdown",
   "metadata": {
    "slideshow": {
     "slide_type": "fragment"
    }
   },
   "source": [
    "```python\n",
    "curated_df = listings_df[listings_df['Income'] <= 60_000]\n",
    "sns.distplot(curated_df['Income'])\n",
    "```"
   ]
  },
  {
   "cell_type": "markdown",
   "metadata": {
    "slideshow": {
     "slide_type": "fragment"
    }
   },
   "source": [
    "We can ask Pandas for the mean:\n",
    "\n",
    "```python\n",
    "listings_df.price.mean()\n",
    "curated_df.price.mean()\n",
    "```"
   ]
  },
  {
   "cell_type": "markdown",
   "metadata": {
    "slideshow": {
     "slide_type": "subslide"
    }
   },
   "source": [
    "🤔 What is the **distribution** of listing incomes based on the education?"
   ]
  },
  {
   "cell_type": "markdown",
   "metadata": {
    "slideshow": {
     "slide_type": "fragment"
    }
   },
   "source": [
    "We can use a [Violinplot](https://seaborn.pydata.org/generated/seaborn.violinplot.html):\n",
    "\n",
    "```python\n",
    "sns.violinplot(data=curated_df, x=\"Education\", y=\"Income\")\n",
    "```"
   ]
  },
  {
   "cell_type": "markdown",
   "metadata": {
    "slideshow": {
     "slide_type": "fragment"
    }
   },
   "source": [
    "We can make the figure bigger calling this before the `sns.violinplot(...)`\n",
    "\n",
    "```python\n",
    "from matplotlib import pyplot as plt\n",
    "\n",
    "plt.figure(figsize=(15, 8))\n",
    "```"
   ]
  },
  {
   "cell_type": "markdown",
   "metadata": {
    "slideshow": {
     "slide_type": "slide"
    }
   },
   "source": [
    "## Going Further\n",
    "\n",
    "Some topics for another time"
   ]
  },
  {
   "cell_type": "markdown",
   "metadata": {
    "slideshow": {
     "slide_type": "subslide"
    }
   },
   "source": [
    "### SQL\n",
    "\n",
    "You can't be _too_ good at SQL!\n",
    "\n",
    "\n",
    "```sql\n",
    "SELECT\n",
    "    ROUND(EXTRACT(epoch FROM age(_camp_starts_at, birthday)) / (3600 * 24 * 365)) as age,\n",
    "    COUNT(DISTINCT id)\n",
    "FROM alumni\n",
    "GROUP BY 1\n",
    "HAVING ROUND(EXTRACT(epoch FROM age(_camp_starts_at, birthday)) / (3600 * 24 * 365)) > 15\n",
    "AND ROUND(EXTRACT(epoch FROM age(_camp_starts_at, birthday)) / (3600 * 24 * 365)) < 90\n",
    "ORDER BY 1\n",
    "```"
   ]
  },
  {
   "cell_type": "markdown",
   "metadata": {
    "slideshow": {
     "slide_type": "subslide"
    }
   },
   "source": [
    "### API Fetching\n",
    "\n",
    "You need the [`requests`](https://requests.readthedocs.io/en/master/) package.\n",
    "\n",
    "```python\n",
    "import requests\n",
    "\n",
    "url = \"https://...\"\n",
    "response = requests.get(url) # `GET` HTTP request\n",
    "print(response.status_code)  # Should be 200 if OK\n",
    "data = response.json()\n",
    "\n",
    "# TODO: Load `data` in a Pandas DataFrame\n",
    "```"
   ]
  },
  {
   "cell_type": "markdown",
   "metadata": {
    "slideshow": {
     "slide_type": "subslide"
    }
   },
   "source": [
    "### Web Scraping\n",
    "\n",
    "You need the [`BeautifulSoup`](https://www.crummy.com/software/BeautifulSoup/bs4/doc/) package and some front-end development knowledge (DOM, CSS selectors, etc.)\n",
    "\n",
    "```python\n",
    "import requests\n",
    "from bs4 import BeautifulSoup\n",
    "\n",
    "response = requests.get(url)\n",
    "soup = BeautifulSoup(response.content, \"html.parser\")\n",
    "\n",
    "# You now can query the `soup` object!\n",
    "soup.title.string\n",
    "soup.find('h1')\n",
    "soup.find_all('a')\n",
    "# etc...\n",
    "```"
   ]
  },
  {
   "cell_type": "markdown",
   "metadata": {
    "slideshow": {
     "slide_type": "subslide"
    }
   },
   "source": [
    "### Machine Learning\n",
    "\n",
    "Do your first regressions, classification & clustering with the [`scikit-learn`](https://scikit-learn.org/stable/) package.\n"
   ]
  },
  {
   "cell_type": "markdown",
   "metadata": {
    "slideshow": {
     "slide_type": "slide"
    }
   },
   "source": [
    "## Your turn!"
   ]
  }
 ],
 "metadata": {
  "celltoolbar": "Diaporama",
  "hide_input": false,
  "kernelspec": {
   "display_name": "Python 3 (ipykernel)",
   "language": "python",
   "name": "python3"
  },
  "language_info": {
   "codemirror_mode": {
    "name": "ipython",
    "version": 3
   },
   "file_extension": ".py",
   "mimetype": "text/x-python",
   "name": "python",
   "nbconvert_exporter": "python",
   "pygments_lexer": "ipython3",
   "version": "3.9.6"
  },
  "toc": {
   "base_numbering": 1,
   "nav_menu": {},
   "number_sections": false,
   "sideBar": true,
   "skip_h1_title": false,
   "title_cell": "Table of Contents",
   "title_sidebar": "Contents",
   "toc_cell": false,
   "toc_position": {},
   "toc_section_display": true,
   "toc_window_display": false
  },
  "varInspector": {
   "cols": {
    "lenName": 16,
    "lenType": 16,
    "lenVar": 40
   },
   "kernels_config": {
    "python": {
     "delete_cmd_postfix": "",
     "delete_cmd_prefix": "del ",
     "library": "var_list.py",
     "varRefreshCmd": "print(var_dic_list())"
    },
    "r": {
     "delete_cmd_postfix": ") ",
     "delete_cmd_prefix": "rm(",
     "library": "var_list.r",
     "varRefreshCmd": "cat(var_dic_list()) "
    }
   },
   "types_to_exclude": [
    "module",
    "function",
    "builtin_function_or_method",
    "instance",
    "_Feature"
   ],
   "window_display": false
  }
 },
 "nbformat": 4,
 "nbformat_minor": 4
}
